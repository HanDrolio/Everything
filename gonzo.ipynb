{
 "cells": [
  {
   "cell_type": "code",
   "execution_count": 1,
   "id": "18b0d4a3-cd55-45f6-8385-0d92d849f505",
   "metadata": {},
   "outputs": [
    {
     "ename": "NameError",
     "evalue": "name 'null' is not defined",
     "output_type": "error",
     "traceback": [
      "\u001b[31m---------------------------------------------------------------------------\u001b[39m",
      "\u001b[31mNameError\u001b[39m                                 Traceback (most recent call last)",
      "\u001b[36mCell\u001b[39m\u001b[36m \u001b[39m\u001b[32mIn[1]\u001b[39m\u001b[32m, line 14\u001b[39m\n\u001b[32m      1\u001b[39m {\n\u001b[32m      2\u001b[39m  \u001b[33m\"\u001b[39m\u001b[33mcells\u001b[39m\u001b[33m\"\u001b[39m: [\n\u001b[32m      3\u001b[39m   {\n\u001b[32m      4\u001b[39m    \u001b[33m\"\u001b[39m\u001b[33mcell_type\u001b[39m\u001b[33m\"\u001b[39m: \u001b[33m\"\u001b[39m\u001b[33mmarkdown\u001b[39m\u001b[33m\"\u001b[39m,\n\u001b[32m      5\u001b[39m    \u001b[33m\"\u001b[39m\u001b[33mid\u001b[39m\u001b[33m\"\u001b[39m: \u001b[33m\"\u001b[39m\u001b[33m557e8636\u001b[39m\u001b[33m\"\u001b[39m,\n\u001b[32m      6\u001b[39m    \u001b[33m\"\u001b[39m\u001b[33mmetadata\u001b[39m\u001b[33m\"\u001b[39m: {},\n\u001b[32m      7\u001b[39m    \u001b[33m\"\u001b[39m\u001b[33msource\u001b[39m\u001b[33m\"\u001b[39m: [\n\u001b[32m      8\u001b[39m     \u001b[33m\"\u001b[39m\u001b[33m# 🌌 DIGITAL TYPEWRITER — RAINBOW RIPPLES\u001b[39m\u001b[38;5;130;01m\\n\u001b[39;00m\u001b[33m\"\u001b[39m,\n\u001b[32m      9\u001b[39m     \u001b[33m\"\u001b[39m\u001b[33mHunter S. CLI GUI Ripple Logger\u001b[39m\u001b[33m\"\u001b[39m\n\u001b[32m     10\u001b[39m    ]\n\u001b[32m     11\u001b[39m   },\n\u001b[32m     12\u001b[39m   {\n\u001b[32m     13\u001b[39m    \u001b[33m\"\u001b[39m\u001b[33mcell_type\u001b[39m\u001b[33m\"\u001b[39m: \u001b[33m\"\u001b[39m\u001b[33mcode\u001b[39m\u001b[33m\"\u001b[39m,\n\u001b[32m---> \u001b[39m\u001b[32m14\u001b[39m    \u001b[33m\"\u001b[39m\u001b[33mexecution_count\u001b[39m\u001b[33m\"\u001b[39m: \u001b[43mnull\u001b[49m,\n\u001b[32m     15\u001b[39m    \u001b[33m\"\u001b[39m\u001b[33mid\u001b[39m\u001b[33m\"\u001b[39m: \u001b[33m\"\u001b[39m\u001b[33m9bbf9fd9\u001b[39m\u001b[33m\"\u001b[39m,\n\u001b[32m     16\u001b[39m    \u001b[33m\"\u001b[39m\u001b[33mmetadata\u001b[39m\u001b[33m\"\u001b[39m: {},\n\u001b[32m     17\u001b[39m    \u001b[33m\"\u001b[39m\u001b[33moutputs\u001b[39m\u001b[33m\"\u001b[39m: [],\n\u001b[32m     18\u001b[39m    \u001b[33m\"\u001b[39m\u001b[33msource\u001b[39m\u001b[33m\"\u001b[39m: [\n\u001b[32m     19\u001b[39m     \u001b[33m\"\u001b[39m\u001b[33mimport datetime\u001b[39m\u001b[38;5;130;01m\\n\u001b[39;00m\u001b[33m\"\u001b[39m,\n\u001b[32m     20\u001b[39m     \u001b[33m\"\u001b[39m\u001b[33mimport ipywidgets as widgets\u001b[39m\u001b[38;5;130;01m\\n\u001b[39;00m\u001b[33m\"\u001b[39m,\n\u001b[32m     21\u001b[39m     \u001b[33m\"\u001b[39m\u001b[33mfrom IPython.display import display, clear_output\u001b[39m\u001b[38;5;130;01m\\n\u001b[39;00m\u001b[33m\"\u001b[39m,\n\u001b[32m     22\u001b[39m     \u001b[33m\"\u001b[39m\u001b[38;5;130;01m\\n\u001b[39;00m\u001b[33m\"\u001b[39m,\n\u001b[32m     23\u001b[39m     \u001b[33m\"\u001b[39m\u001b[33m# Create CLI-style text box\u001b[39m\u001b[38;5;130;01m\\n\u001b[39;00m\u001b[33m\"\u001b[39m,\n\u001b[32m     24\u001b[39m     \u001b[33m\"\u001b[39m\u001b[33minput_box = widgets.Textarea(\u001b[39m\u001b[38;5;130;01m\\n\u001b[39;00m\u001b[33m\"\u001b[39m,\n\u001b[32m     25\u001b[39m     \u001b[33m\"\u001b[39m\u001b[33m    value=\u001b[39m\u001b[33m'\u001b[39m\u001b[33m'\u001b[39m\u001b[33m,\u001b[39m\u001b[38;5;130;01m\\n\u001b[39;00m\u001b[33m\"\u001b[39m,\n\u001b[32m     26\u001b[39m     \u001b[33m\"\u001b[39m\u001b[33m    placeholder=\u001b[39m\u001b[33m'\u001b[39m\u001b[33mType your ripple thought like a CLI terminal...\u001b[39m\u001b[33m'\u001b[39m\u001b[33m,\u001b[39m\u001b[38;5;130;01m\\n\u001b[39;00m\u001b[33m\"\u001b[39m,\n\u001b[32m     27\u001b[39m     \u001b[33m\"\u001b[39m\u001b[33m    description=\u001b[39m\u001b[33m'\u001b[39m\u001b[33m💭 Entry:\u001b[39m\u001b[33m'\u001b[39m\u001b[33m,\u001b[39m\u001b[38;5;130;01m\\n\u001b[39;00m\u001b[33m\"\u001b[39m,\n\u001b[32m     28\u001b[39m     \u001b[33m\"\u001b[39m\u001b[33m    layout=widgets.Layout(width=\u001b[39m\u001b[33m'\u001b[39m\u001b[33m100\u001b[39m\u001b[33m%\u001b[39m\u001b[33m'\u001b[39m\u001b[33m, height=\u001b[39m\u001b[33m'\u001b[39m\u001b[33m200px\u001b[39m\u001b[33m'\u001b[39m\u001b[33m),\u001b[39m\u001b[38;5;130;01m\\n\u001b[39;00m\u001b[33m\"\u001b[39m,\n\u001b[32m     29\u001b[39m     \u001b[33m\"\u001b[39m\u001b[33m    style=\u001b[39m\u001b[33m{\u001b[39m\u001b[33m'\u001b[39m\u001b[33mdescription_width\u001b[39m\u001b[33m'\u001b[39m\u001b[33m: \u001b[39m\u001b[33m'\u001b[39m\u001b[33minitial\u001b[39m\u001b[33m'\u001b[39m\u001b[33m}\u001b[39m\u001b[38;5;130;01m\\n\u001b[39;00m\u001b[33m\"\u001b[39m,\n\u001b[32m     30\u001b[39m     \u001b[33m\"\u001b[39m\u001b[33m)\u001b[39m\u001b[38;5;130;01m\\n\u001b[39;00m\u001b[33m\"\u001b[39m,\n\u001b[32m     31\u001b[39m     \u001b[33m\"\u001b[39m\u001b[38;5;130;01m\\n\u001b[39;00m\u001b[33m\"\u001b[39m,\n\u001b[32m     32\u001b[39m     \u001b[33m\"\u001b[39m\u001b[33msubmit_button = widgets.Button(\u001b[39m\u001b[38;5;130;01m\\n\u001b[39;00m\u001b[33m\"\u001b[39m,\n\u001b[32m     33\u001b[39m     \u001b[33m\"\u001b[39m\u001b[33m    description=\u001b[39m\u001b[33m'\u001b[39m\u001b[33mLog Ripple 🧠\u001b[39m\u001b[33m'\u001b[39m\u001b[33m,\u001b[39m\u001b[38;5;130;01m\\n\u001b[39;00m\u001b[33m\"\u001b[39m,\n\u001b[32m     34\u001b[39m     \u001b[33m\"\u001b[39m\u001b[33m    button_style=\u001b[39m\u001b[33m'\u001b[39m\u001b[33msuccess\u001b[39m\u001b[33m'\u001b[39m\u001b[33m,\u001b[39m\u001b[38;5;130;01m\\n\u001b[39;00m\u001b[33m\"\u001b[39m,\n\u001b[32m     35\u001b[39m     \u001b[33m\"\u001b[39m\u001b[33m    tooltip=\u001b[39m\u001b[33m'\u001b[39m\u001b[33mClick to log your ripple\u001b[39m\u001b[33m'\u001b[39m\u001b[33m,\u001b[39m\u001b[38;5;130;01m\\n\u001b[39;00m\u001b[33m\"\u001b[39m,\n\u001b[32m     36\u001b[39m     \u001b[33m\"\u001b[39m\u001b[33m)\u001b[39m\u001b[38;5;130;01m\\n\u001b[39;00m\u001b[33m\"\u001b[39m,\n\u001b[32m     37\u001b[39m     \u001b[33m\"\u001b[39m\u001b[38;5;130;01m\\n\u001b[39;00m\u001b[33m\"\u001b[39m,\n\u001b[32m     38\u001b[39m     \u001b[33m\"\u001b[39m\u001b[33moutput = widgets.Output()\u001b[39m\u001b[38;5;130;01m\\n\u001b[39;00m\u001b[33m\"\u001b[39m,\n\u001b[32m     39\u001b[39m     \u001b[33m\"\u001b[39m\u001b[38;5;130;01m\\n\u001b[39;00m\u001b[33m\"\u001b[39m,\n\u001b[32m     40\u001b[39m     \u001b[33m\"\u001b[39m\u001b[33mdef save_ripple(entry):\u001b[39m\u001b[38;5;130;01m\\n\u001b[39;00m\u001b[33m\"\u001b[39m,\n\u001b[32m     41\u001b[39m     \u001b[33m\"\u001b[39m\u001b[33m    timestamp = datetime.datetime.now().strftime(\u001b[39m\u001b[38;5;130;01m\\\"\u001b[39;00m\u001b[33m%\u001b[39m\u001b[33mY-\u001b[39m\u001b[33m%\u001b[39m\u001b[33mm-\u001b[39m\u001b[38;5;132;01m%d\u001b[39;00m\u001b[33m \u001b[39m\u001b[33m%\u001b[39m\u001b[33mH:\u001b[39m\u001b[33m%\u001b[39m\u001b[33mM:\u001b[39m\u001b[33m%\u001b[39m\u001b[33mS\u001b[39m\u001b[38;5;130;01m\\\"\u001b[39;00m\u001b[33m)\u001b[39m\u001b[38;5;130;01m\\n\u001b[39;00m\u001b[33m\"\u001b[39m,\n\u001b[32m     42\u001b[39m     \u001b[33m\"\u001b[39m\u001b[33m    with open(\u001b[39m\u001b[38;5;130;01m\\\"\u001b[39;00m\u001b[33mgui_ripple_log.txt\u001b[39m\u001b[38;5;130;01m\\\"\u001b[39;00m\u001b[33m, \u001b[39m\u001b[38;5;130;01m\\\"\u001b[39;00m\u001b[33ma\u001b[39m\u001b[38;5;130;01m\\\"\u001b[39;00m\u001b[33m) as f:\u001b[39m\u001b[38;5;130;01m\\n\u001b[39;00m\u001b[33m\"\u001b[39m,\n\u001b[32m     43\u001b[39m     \u001b[33m\"\u001b[39m\u001b[33m        f.write(f\u001b[39m\u001b[38;5;130;01m\\\"\u001b[39;00m\u001b[33m[\u001b[39m\u001b[38;5;132;01m{timestamp}\u001b[39;00m\u001b[33m]\u001b[39m\u001b[38;5;130;01m\\\\\u001b[39;00m\u001b[33mn\u001b[39m\u001b[38;5;132;01m{entry}\u001b[39;00m\u001b[38;5;130;01m\\\\\u001b[39;00m\u001b[33mn\u001b[39m\u001b[38;5;130;01m\\\\\u001b[39;00m\u001b[33mn\u001b[39m\u001b[38;5;130;01m\\\"\u001b[39;00m\u001b[33m)\u001b[39m\u001b[38;5;130;01m\\n\u001b[39;00m\u001b[33m\"\u001b[39m,\n\u001b[32m     44\u001b[39m     \u001b[33m\"\u001b[39m\u001b[38;5;130;01m\\n\u001b[39;00m\u001b[33m\"\u001b[39m,\n\u001b[32m     45\u001b[39m     \u001b[33m\"\u001b[39m\u001b[33mdef on_submit_click(b):\u001b[39m\u001b[38;5;130;01m\\n\u001b[39;00m\u001b[33m\"\u001b[39m,\n\u001b[32m     46\u001b[39m     \u001b[33m\"\u001b[39m\u001b[33m    with output:\u001b[39m\u001b[38;5;130;01m\\n\u001b[39;00m\u001b[33m\"\u001b[39m,\n\u001b[32m     47\u001b[39m     \u001b[33m\"\u001b[39m\u001b[33m        clear_output()\u001b[39m\u001b[38;5;130;01m\\n\u001b[39;00m\u001b[33m\"\u001b[39m,\n\u001b[32m     48\u001b[39m     \u001b[33m\"\u001b[39m\u001b[33m        entry = input_box.value.strip()\u001b[39m\u001b[38;5;130;01m\\n\u001b[39;00m\u001b[33m\"\u001b[39m,\n\u001b[32m     49\u001b[39m     \u001b[33m\"\u001b[39m\u001b[33m        if entry:\u001b[39m\u001b[38;5;130;01m\\n\u001b[39;00m\u001b[33m\"\u001b[39m,\n\u001b[32m     50\u001b[39m     \u001b[33m\"\u001b[39m\u001b[33m            save_ripple(entry)\u001b[39m\u001b[38;5;130;01m\\n\u001b[39;00m\u001b[33m\"\u001b[39m,\n\u001b[32m     51\u001b[39m     \u001b[33m\"\u001b[39m\u001b[33m            print(\u001b[39m\u001b[38;5;130;01m\\\"\u001b[39;00m\u001b[33m✅ Ripple logged.\u001b[39m\u001b[38;5;130;01m\\\"\u001b[39;00m\u001b[33m)\u001b[39m\u001b[38;5;130;01m\\n\u001b[39;00m\u001b[33m\"\u001b[39m,\n\u001b[32m     52\u001b[39m     \u001b[33m\"\u001b[39m\u001b[33m        else:\u001b[39m\u001b[38;5;130;01m\\n\u001b[39;00m\u001b[33m\"\u001b[39m,\n\u001b[32m     53\u001b[39m     \u001b[33m\"\u001b[39m\u001b[33m            print(\u001b[39m\u001b[38;5;130;01m\\\"\u001b[39;00m\u001b[33m⚠️ Nothing typed.\u001b[39m\u001b[38;5;130;01m\\\"\u001b[39;00m\u001b[33m)\u001b[39m\u001b[38;5;130;01m\\n\u001b[39;00m\u001b[33m\"\u001b[39m,\n\u001b[32m     54\u001b[39m     \u001b[33m\"\u001b[39m\u001b[38;5;130;01m\\n\u001b[39;00m\u001b[33m\"\u001b[39m,\n\u001b[32m     55\u001b[39m     \u001b[33m\"\u001b[39m\u001b[33msubmit_button.on_click(on_submit_click)\u001b[39m\u001b[38;5;130;01m\\n\u001b[39;00m\u001b[33m\"\u001b[39m,\n\u001b[32m     56\u001b[39m     \u001b[33m\"\u001b[39m\u001b[38;5;130;01m\\n\u001b[39;00m\u001b[33m\"\u001b[39m,\n\u001b[32m     57\u001b[39m     \u001b[33m\"\u001b[39m\u001b[33m# Display GUI\u001b[39m\u001b[38;5;130;01m\\n\u001b[39;00m\u001b[33m\"\u001b[39m,\n\u001b[32m     58\u001b[39m     \u001b[33m\"\u001b[39m\u001b[33mdisplay(widgets.HTML(value=\u001b[39m\u001b[38;5;130;01m\\\"\u001b[39;00m\u001b[33m<pre><b>🌌 DIGITAL TYPEWRITER — RAINBOW RIPPLES</b></pre>\u001b[39m\u001b[38;5;130;01m\\\"\u001b[39;00m\u001b[33m))\u001b[39m\u001b[38;5;130;01m\\n\u001b[39;00m\u001b[33m\"\u001b[39m,\n\u001b[32m     59\u001b[39m     \u001b[33m\"\u001b[39m\u001b[33mdisplay(input_box, submit_button, output)\u001b[39m\u001b[38;5;130;01m\\n\u001b[39;00m\u001b[33m\"\u001b[39m\n\u001b[32m     60\u001b[39m    ]\n\u001b[32m     61\u001b[39m   }\n\u001b[32m     62\u001b[39m  ],\n\u001b[32m     63\u001b[39m  \u001b[33m\"\u001b[39m\u001b[33mmetadata\u001b[39m\u001b[33m\"\u001b[39m: {},\n\u001b[32m     64\u001b[39m  \u001b[33m\"\u001b[39m\u001b[33mnbformat\u001b[39m\u001b[33m\"\u001b[39m: \u001b[32m4\u001b[39m,\n\u001b[32m     65\u001b[39m  \u001b[33m\"\u001b[39m\u001b[33mnbformat_minor\u001b[39m\u001b[33m\"\u001b[39m: \u001b[32m5\u001b[39m\n\u001b[32m     66\u001b[39m }\n",
      "\u001b[31mNameError\u001b[39m: name 'null' is not defined"
     ]
    }
   ],
   "source": [
    "{\n",
    " \"cells\": [\n",
    "  {\n",
    "   \"cell_type\": \"markdown\",\n",
    "   \"id\": \"557e8636\",\n",
    "   \"metadata\": {},\n",
    "   \"source\": [\n",
    "    \"# 🌌 DIGITAL TYPEWRITER — RAINBOW RIPPLES\\n\",\n",
    "    \"Hunter S. CLI GUI Ripple Logger\"\n",
    "   ]\n",
    "  },\n",
    "  {\n",
    "   \"cell_type\": \"code\",\n",
    "   \"execution_count\": null,\n",
    "   \"id\": \"9bbf9fd9\",\n",
    "   \"metadata\": {},\n",
    "   \"outputs\": [],\n",
    "   \"source\": [\n",
    "    \"import datetime\\n\",\n",
    "    \"import ipywidgets as widgets\\n\",\n",
    "    \"from IPython.display import display, clear_output\\n\",\n",
    "    \"\\n\",\n",
    "    \"# Create CLI-style text box\\n\",\n",
    "    \"input_box = widgets.Textarea(\\n\",\n",
    "    \"    value='',\\n\",\n",
    "    \"    placeholder='Type your ripple thought like a CLI terminal...',\\n\",\n",
    "    \"    description='💭 Entry:',\\n\",\n",
    "    \"    layout=widgets.Layout(width='100%', height='200px'),\\n\",\n",
    "    \"    style={'description_width': 'initial'}\\n\",\n",
    "    \")\\n\",\n",
    "    \"\\n\",\n",
    "    \"submit_button = widgets.Button(\\n\",\n",
    "    \"    description='Log Ripple 🧠',\\n\",\n",
    "    \"    button_style='success',\\n\",\n",
    "    \"    tooltip='Click to log your ripple',\\n\",\n",
    "    \")\\n\",\n",
    "    \"\\n\",\n",
    "    \"output = widgets.Output()\\n\",\n",
    "    \"\\n\",\n",
    "    \"def save_ripple(entry):\\n\",\n",
    "    \"    timestamp = datetime.datetime.now().strftime(\\\"%Y-%m-%d %H:%M:%S\\\")\\n\",\n",
    "    \"    with open(\\\"gui_ripple_log.txt\\\", \\\"a\\\") as f:\\n\",\n",
    "    \"        f.write(f\\\"[{timestamp}]\\\\n{entry}\\\\n\\\\n\\\")\\n\",\n",
    "    \"\\n\",\n",
    "    \"def on_submit_click(b):\\n\",\n",
    "    \"    with output:\\n\",\n",
    "    \"        clear_output()\\n\",\n",
    "    \"        entry = input_box.value.strip()\\n\",\n",
    "    \"        if entry:\\n\",\n",
    "    \"            save_ripple(entry)\\n\",\n",
    "    \"            print(\\\"✅ Ripple logged.\\\")\\n\",\n",
    "    \"        else:\\n\",\n",
    "    \"            print(\\\"⚠️ Nothing typed.\\\")\\n\",\n",
    "    \"\\n\",\n",
    "    \"submit_button.on_click(on_submit_click)\\n\",\n",
    "    \"\\n\",\n",
    "    \"# Display GUI\\n\",\n",
    "    \"display(widgets.HTML(value=\\\"<pre><b>🌌 DIGITAL TYPEWRITER — RAINBOW RIPPLES</b></pre>\\\"))\\n\",\n",
    "    \"display(input_box, submit_button, output)\\n\"\n",
    "   ]\n",
    "  }\n",
    " ],\n",
    " \"metadata\": {},\n",
    " \"nbformat\": 4,\n",
    " \"nbformat_minor\": 5\n",
    "}\n"
   ]
  },
  {
   "cell_type": "code",
   "execution_count": null,
   "id": "464bad8e-e585-4286-bfc1-4ef7fc70d20c",
   "metadata": {},
   "outputs": [],
   "source": []
  }
 ],
 "metadata": {
  "kernelspec": {
   "display_name": "Python 3 (ipykernel)",
   "language": "python",
   "name": "python3"
  },
  "language_info": {
   "codemirror_mode": {
    "name": "ipython",
    "version": 3
   },
   "file_extension": ".py",
   "mimetype": "text/x-python",
   "name": "python",
   "nbconvert_exporter": "python",
   "pygments_lexer": "ipython3",
   "version": "3.11.2"
  }
 },
 "nbformat": 4,
 "nbformat_minor": 5
}
